{
 "cells": [
  {
   "cell_type": "markdown",
   "metadata": {},
   "source": [
    "# 데이터 처리 환경 설정"
   ]
  },
  {
   "cell_type": "code",
   "execution_count": 3,
   "metadata": {},
   "outputs": [],
   "source": [
    "import warnings\n",
    "warnings.filterwarnings(action='ignore')\n",
    "import pandas as pd\n",
    "import numpy as np\n",
    "import os\n",
    "import matplotlib.pyplot as plt\n",
    "import collections\n",
    "import datetime as dt\n",
    "import time\n",
    "from sklearn.linear_model import LinearRegression\n",
    "from scipy.spatial import ConvexHull, convex_hull_plot_2d\n",
    "\n",
    "\n",
    "\n",
    "from matplotlib import font_manager, rc\n",
    "from matplotlib import style\n",
    "style.use('ggplot')\n",
    "%matplotlib inline\n",
    "\n",
    "font_name = font_manager.FontProperties(fname=\"c:/Windows/Fonts/malgun.ttf\").get_name()\n",
    "rc('font', family=font_name)\n",
    "\n",
    "from IPython.display import set_matplotlib_formats\n",
    "set_matplotlib_formats(\"retina\")\n",
    "\n",
    "pd.set_option('display.max_rows', 220)\n",
    "pd.set_option('display.max_columns', 20)"
   ]
  },
  {
   "cell_type": "markdown",
   "metadata": {},
   "source": [
    "## 변수 설명\n",
    "* gu_list: 구 이름 리스트\n",
    "* gu_count : 구별 동 갯수 리스트\n",
    "* dong_list : 읍면동 이름 리스트"
   ]
  },
  {
   "cell_type": "markdown",
   "metadata": {},
   "source": [
    "## Function\n",
    "* def predict_people(city, want):\n",
    "    * city:읍면동, want:총 유동인구\n",
    "    * ex) predict_people('장전1동', '총 유동인구')\n",
    "    * 읍면동의 총 유동인구를 예측하여 시각화 해주는 함수\n",
    "* def predict_money_power(gu):\n",
    "    * gu:구군\n",
    "    * ex) predict_money_power('금정구')\n",
    "    * 구군의 구매력을 예측하여 시각화 해주는 함수\n",
    "* def z_score_normalize(lst):\n",
    "    * lst:Z-정규화를 시키고 싶은 리스트\n",
    "    * 리스트를 Z-정규화 시켜줌\n",
    "* def analysis_store(dong):\n",
    "    * dong: 읍면동\n",
    "    * 방사형 그래프를 시각화 시켜줌"
   ]
  },
  {
   "cell_type": "code",
   "execution_count": 4,
   "metadata": {},
   "outputs": [],
   "source": [
    "def predict_people(city, want):\n",
    "    data['년월값']=0\n",
    "    data['년월값']=pd.to_datetime(data['년월'])\n",
    "    data['년월값']=data['년월값'].map(dt.datetime.toordinal)\n",
    "    \n",
    "    X=pd.DataFrame(data[data['읍면동']==city]['년월값'])\n",
    "    y=pd.DataFrame(data[data['읍면동']==city][want])\n",
    "\n",
    "    X['년월']=X['년월값'].map(dt.date.fromordinal)\n",
    "    X['년월']=pd.to_datetime(X['년월'])\n",
    "\n",
    "    data_list=X['년월'].to_list()\n",
    "    data_list\n",
    "    df=pd.DataFrame({'year_month': data_list})\n",
    "\n",
    "    X=X.reset_index()\n",
    "    X['년월']= df['year_month'].dt.strftime('%Y-%m')\n",
    "    \n",
    "    line_fitter=LinearRegression()\n",
    "    line_fitter.fit(X['년월값'].values.reshape(-1,1),y)\n",
    "\n",
    "    predict=line_fitter.predict([[X['년월값'][11]+30]])\n",
    "    print(str(int(np.round([[predict]][-1][-1])))+'명')\n",
    "    \n",
    "    plt.plot(X['년월'], y, 'o')\n",
    "    plt.plot(X['년월'],line_fitter.predict(X['년월값'].values.reshape(-1,1)))\n",
    "    plt.xticks(rotation=20)\n",
    "    plt.show()\n",
    "# line_fitter.coef_, line_fitter.intercept_"
   ]
  },
  {
   "cell_type": "code",
   "execution_count": 5,
   "metadata": {},
   "outputs": [],
   "source": [
    "def predict_money_power(gu):\n",
    "    data_money['년월값']=0\n",
    "    data_money['년월값']=pd.to_datetime(data_money['년도월'])\n",
    "    data_money['년월값']=data_money['년월값'].map(dt.datetime.toordinal)\n",
    "\n",
    "    X=pd.DataFrame(data_money[data_money['구군']==gu]['년월값'])\n",
    "    y=pd.DataFrame(data_money[data_money['구군']==gu]['카드이용금액(천원)'])\n",
    "\n",
    "    X['년월']=X['년월값'].map(dt.date.fromordinal)\n",
    "    X['년월']=pd.to_datetime(X['년월'])\n",
    "\n",
    "    data_list=X['년월'].to_list()\n",
    "    data_list\n",
    "    df=pd.DataFrame({'year_month': data_list})    \n",
    "\n",
    "    X=X.reset_index()\n",
    "    X['년월']= df['year_month'].dt.strftime('%Y-%m')\n",
    "\n",
    "    line_fitter=LinearRegression()\n",
    "    line_fitter.fit(X['년월값'].values.reshape(-1,1),y)\n",
    "\n",
    "    a=line_fitter.predict([[X['년월값'][2]+91]])\n",
    "\n",
    "    print(str(int(np.round([[a]][-1][-1])))+'원')\n",
    "\n",
    "    plt.plot(X['년월'], y, 'o')\n",
    "    plt.plot(X['년월'],line_fitter.predict(X['년월값'].values.reshape(-1,1)))\n",
    "    plt.xticks(rotation=20)\n",
    "    plt.show()"
   ]
  },
  {
   "cell_type": "code",
   "execution_count": 6,
   "metadata": {},
   "outputs": [],
   "source": [
    "def z_score_normalize(lst):\n",
    "    normalized = []\n",
    "    for value in lst:\n",
    "        normalized_num = (value - np.mean(lst)) / np.std(lst)\n",
    "        normalized.append(normalized_num)\n",
    "    return normalized"
   ]
  },
  {
   "cell_type": "code",
   "execution_count": 42,
   "metadata": {},
   "outputs": [],
   "source": [
    "def analysis_store(dong):\n",
    "    Depts = [\"경쟁업체(십)\",\"영업이익/매출액(%)\",\"구매력(백만)\",\"유동인구(만)\", \"총인구(천)\"]\n",
    "    # 진입 상권\n",
    "\n",
    "    for i in range(len(gu_list)):\n",
    "        print(gu_list[i])\n",
    "        print(dong_list_per_gu[i])\n",
    "\n",
    "    want_store=dong\n",
    "    want_data=data_per_dong[data_per_dong['읍면동']==want_store]\n",
    "    want_s=[want_data['경쟁업체 수'].tolist()[0]/10, want_data['영업이익/매출액(%)'].tolist()[0], want_data['예측 구매력'].tolist()[0]/5000000, \n",
    "            want_data['예측 유동인구'].tolist()[0]/10000, want_data['총 인구'].tolist()[0]/1000, want_data['경쟁업체 수'].tolist()[0]/10]\n",
    "\n",
    "    # 평균 상권\n",
    "    ave_data=data_per_dong[data_per_dong['구군']==want_data['구군'].tolist()[0]]\n",
    "    ave_s=[ave_data['경쟁업체 수'].sum()/len(ave_data['경쟁업체 수'])/10, ave_data['영업이익/매출액(%)'].sum()/len(ave_data['영업이익/매출액(%)']), \n",
    "           want_data['구의 동별 평균 구매력'].tolist()[0]/5000000, ave_data['예측 유동인구'].sum()/len(ave_data['예측 유동인구'])/10000, \n",
    "           want_data['구의 동별 평균 인구'].tolist()[0]/1000,ave_data['경쟁업체 수'].sum()/len(ave_data['경쟁업체 수'])/10]\n",
    "\n",
    "    nor_want_s=[want_data['경쟁업체 수_정규화'].tolist()[0], want_data['영업이익/매출액(%)_정규화'].tolist()[0],\n",
    "                want_data['예측 구매력_정규화'].tolist()[0], want_data['예측 유동인구_정규화'].tolist()[0],\n",
    "                want_data['총 인구_정규화'].tolist()[0], want_data['경쟁업체 수_정규화'].tolist()[0]]\n",
    "\n",
    "    nor_ave_s=[ave_data['경쟁업체 수_정규화'].sum()/len(ave_data['경쟁업체 수_정규화']),\n",
    "               ave_data['영업이익/매출액(%)_정규화'].sum()/len(ave_data['영업이익/매출액(%)_정규화']), \n",
    "           want_data['구의 동별 평균 구매력_정규화'].tolist()[0], ave_data['예측 유동인구_정규화'].sum()/len(ave_data['예측 유동인구_정규화']), \n",
    "           want_data['구의 동별 평균 인구_정규화'].tolist()[0],ave_data['경쟁업체 수_정규화'].sum()/len(ave_data['경쟁업체 수_정규화'])]\n",
    "\n",
    "    grade_store_list=[]\n",
    "    for i in range(len(nor_want_s)):\n",
    "        if i==0:\n",
    "            grade_store_list.append(-(nor_want_s[i]-nor_ave_s[i])*1.8)\n",
    "        elif i==2:\n",
    "            grade_store_list.append((nor_want_s[i]-nor_ave_s[i])*1.4)\n",
    "        elif i==4:\n",
    "            grade_store_list.append((nor_want_s[i]-nor_ave_s[i])*1.8)\n",
    "        else:\n",
    "            grade_store_list.append((nor_want_s[i]-nor_ave_s[i]))\n",
    "\n",
    "    grade_store=sum(grade_store_list)\n",
    "\n",
    "    grade=''\n",
    "    if grade_store>=sorted(grade_list)[-50]:\n",
    "        grade='좋음'\n",
    "    elif np.mean(grade_list)<=grade_store<sorted(grade_list)[-50]:\n",
    "        grade='양호'\n",
    "    elif sorted(grade_list)[50]<=grade_store<np.mean(grade_list):\n",
    "        grade='고려'\n",
    "    elif grade_store<sorted(grade_list)[50]:\n",
    "        grade='나쁨'\n",
    "\n",
    "\n",
    "    plt.figure(figsize=(10,6))\n",
    "    plt.subplot(polar=True)\n",
    "\n",
    "    theta = np.linspace(0, 2 * np.pi, len(want_s))\n",
    "\n",
    "    (lines,labels) = plt.thetagrids(range(0,360, int(360/len(Depts))), (Depts))\n",
    "\n",
    "    plt.plot(theta, want_s)\n",
    "    plt.fill(theta, want_s, 'b', alpha=0.1)\n",
    "    plt.plot(theta, ave_s)\n",
    "    plt.legend(labels=(want_store,want_data['구군'].tolist()[0]+' 평균 상권'),loc=1)\n",
    "    plt.title(want_store+\" 상권분석 서비스 결과->\"+grade)\n",
    "\n",
    "    plt.show();\n",
    "\n",
    "    plt.show();"
   ]
  },
  {
   "cell_type": "markdown",
   "metadata": {},
   "source": [
    "## 데이터 불러오기"
   ]
  },
  {
   "cell_type": "code",
   "execution_count": 8,
   "metadata": {},
   "outputs": [],
   "source": [
    "ori_data19=pd.read_csv(\"./data/2019동별 유동인구.csv\", encoding='utf-8')\n",
    "ori_data20=pd.read_csv(\"./data/2020동별 유동인구.csv\", encoding='cp949')\n",
    "ori_data_total=pd.read_csv('./data/2019년도 부산시 총인구(동별).csv', encoding='cp949')\n",
    "ori_data_money=pd.read_csv(\"./data/부산_구군별 총 카드이용금액.csv\", encoding='utf-8')\n",
    "ori_data_rival=pd.read_csv(\"./data/부산_읍면동별_경쟁업체수.csv\", encoding='cp949')\n",
    "ori_data_benifit=pd.read_csv('./data/부산_읍면동별_매출대비이익.csv',encoding='cp949')\n",
    "ori_data_do=pd.read_csv(\"./data/save/상가정보_부산_코드구분.csv\", encoding='cp949')"
   ]
  },
  {
   "cell_type": "code",
   "execution_count": 9,
   "metadata": {},
   "outputs": [],
   "source": [
    "data19=ori_data19.copy()\n",
    "data20=ori_data20.copy()\n",
    "\n",
    "data_total=ori_data_total.drop(0).reset_index().copy()\n",
    "data_total=data_total.drop(columns='index')\n",
    "\n",
    "data_rival=ori_data_rival[ori_data_rival['행정동명']!='장전3동'].reset_index().copy()\n",
    "data_rival=data_rival.drop(columns='index')\n",
    "\n",
    "data_benifit=ori_data_benifit[ori_data_benifit['행정동명']!='장전3동'].reset_index().copy()\n",
    "data_benifit=data_benifit.drop(columns='index')\n",
    "\n",
    "data_money=ori_data_money.copy()\n",
    "\n",
    "data_do=ori_data_do.copy()"
   ]
  },
  {
   "cell_type": "markdown",
   "metadata": {},
   "source": [
    "## 읍면동 list로 뽑기"
   ]
  },
  {
   "cell_type": "code",
   "execution_count": 10,
   "metadata": {},
   "outputs": [],
   "source": [
    "data_dong_list=[]\n",
    "for i in data20['읍면동'].unique():\n",
    "        data_dong_list.append(i)"
   ]
  },
  {
   "cell_type": "markdown",
   "metadata": {},
   "source": [
    "## 2019년 데이터 전처리\n",
    "* 장전3동이 2동에 흡수"
   ]
  },
  {
   "cell_type": "code",
   "execution_count": 11,
   "metadata": {},
   "outputs": [],
   "source": [
    "for i in range(8,13):\n",
    "    globals()['df{}'.format(i)]=data19[data19['월']==i]\n",
    "    \n",
    "data19=pd.concat([df8,df9,df10,df11,df12], axis=0)\n",
    "data19=data19.reset_index()\n",
    "\n",
    "data19['평균 유동인구']=[pd.to_numeric(data19['평균 유동인구'][i].replace(',','').replace('명','')) for i in range(len(data19['평균 유동인구']))]\n",
    "\n",
    "data_move=[]\n",
    "for i in range(8,13):\n",
    "    for j in data_dong_list:\n",
    "        data_move.append(data19[(data19['읍면동']==j)&(data19['월']==i)]['평균 유동인구'].sum())\n",
    "        \n",
    "data19=data19[data19['요일']=='일']\n",
    "data19=data19.reset_index()\n",
    "data19['총 유동인구']=0\n",
    "for i in range(len(data_move)):\n",
    "    data19['총 유동인구'][i]=data_move[i]\n",
    "    \n",
    "data19=data19[(data19['요일']=='일')]\n",
    "data19=data19[['구군','년','월','읍면동','총 유동인구']]\n",
    "\n",
    "for i in data19[data19['읍면동']=='장전2동'].index:\n",
    "    data19['총 유동인구'][i]=data19['총 유동인구'][i]+data19['총 유동인구'][i+1]\n",
    "    \n",
    "data19=data19[data19['읍면동']!='장전3동'].reset_index().copy()\n",
    "data19=data19.drop(columns='index')"
   ]
  },
  {
   "cell_type": "markdown",
   "metadata": {},
   "source": [
    "## 2020년 data 전처리\n",
    "* 장전3동이 2동에 흡수"
   ]
  },
  {
   "cell_type": "code",
   "execution_count": 12,
   "metadata": {},
   "outputs": [],
   "source": [
    "data20['주중/주말 유동인구']=[pd.to_numeric(data20['주중/주말 유동인구'][i].replace(',','')) for i in range(len(data20['주중/주말 유동인구']))]\n",
    "data_move=[]\n",
    "for i in range(1,8):\n",
    "    for j in data_dong_list:\n",
    "        data_move.append(data20[(data20['읍면동']==j)&(data20['월']==i)]['주중/주말 유동인구'].sum())\n",
    "        \n",
    "data20['총 유동인구']=0\n",
    "for i in range(len(data_move)):\n",
    "    data20['총 유동인구'][i]=data_move[i]\n",
    "    \n",
    "data20=data20[data20['요일']=='일']\n",
    "data20=data20[['구군','년','월','읍면동','총 유동인구']]\n",
    "\n",
    "for i in data20[data20['읍면동']=='장전2동'].index:\n",
    "    data20['총 유동인구'][i]=data20['총 유동인구'][i]+data20['총 유동인구'][i+1]\n",
    "    \n",
    "data20=data20[data20['읍면동']!='장전3동'].reset_index().copy()\n",
    "data20=data20.drop(columns='index')"
   ]
  },
  {
   "cell_type": "markdown",
   "metadata": {},
   "source": [
    "## 19-20 데이터 합치기"
   ]
  },
  {
   "cell_type": "code",
   "execution_count": 13,
   "metadata": {
    "scrolled": true
   },
   "outputs": [],
   "source": [
    "data=pd.concat([data19, data20], axis=0)\n",
    "data=data.reset_index()\n",
    "for i in range(len(data['읍면동'])):\n",
    "    if ('제' in data['읍면동'][i]):\n",
    "        if ('거제' not in data['읍면동'][i]):\n",
    "            data['읍면동'][i]=data['읍면동'][i].replace('제','')"
   ]
  },
  {
   "cell_type": "markdown",
   "metadata": {},
   "source": [
    "## 총 인구수 데이터 전처리"
   ]
  },
  {
   "cell_type": "code",
   "execution_count": 14,
   "metadata": {},
   "outputs": [],
   "source": [
    "data_total=data_total.reset_index()\n",
    "data_total=data_total[['행정구역(동읍면)별','2019']]\n",
    "data_total.columns=['읍면동','총 인구수']\n",
    "for i in range(len(data_total['읍면동'])):\n",
    "    if ('제' in data_total['읍면동'][i]):\n",
    "        if ('거제' not in data_total['읍면동'][i]):\n",
    "            data_total['읍면동'][i]=data_total['읍면동'][i].replace('제','')\n",
    "        elif ('거제제' in data_total['읍면동'][i]):\n",
    "            data_total['읍면동'][i]=data_total['읍면동'][i].replace('거제제','거제')\n",
    "        \n",
    "a=[]\n",
    "for i in range(len(data_total['읍면동'])):\n",
    "    if '구' in data_total['읍면동'][i][-1]:\n",
    "        a.append(i)\n",
    "        \n",
    "data_total=data_total.drop([1, 11, 25, 38, 50, 71, 85, 103, 117, 136, 153, 171, 180, 193, 204])\n",
    "data_total=data_total.reset_index()\n",
    "data_total=data_total[data_total['읍면동']!='장전3동'].reset_index().copy()"
   ]
  },
  {
   "cell_type": "code",
   "execution_count": 15,
   "metadata": {},
   "outputs": [],
   "source": [
    "data['년월']=0\n",
    "for i in range(len(data['년'])):\n",
    "        data['년월'][i]=str(data['년'][i])+'.'+str(data['월'][i])\n",
    "        data['년월'][i]=pd.to_datetime(data['년월'][i])\n",
    "        \n",
    "\n",
    "data_list=data['년월'].to_list()\n",
    "data_list\n",
    "df=pd.DataFrame({'year_month': data_list})\n",
    "\n",
    "data['년월']= df['year_month'].dt.strftime('%Y-%m')    "
   ]
  },
  {
   "cell_type": "markdown",
   "metadata": {},
   "source": [
    "# 2020년 08월 유동인구 예측\n",
    "* LinearRegression을 이용하여 시계열 예측 "
   ]
  },
  {
   "cell_type": "code",
   "execution_count": 16,
   "metadata": {},
   "outputs": [],
   "source": [
    "predict_list=data[data['읍면동']!='장전3동']['읍면동'].unique().tolist()\n",
    "predict_people_all=[]\n",
    "for i in predict_list:\n",
    "    data['년월값']=0\n",
    "    data['년월값']=pd.to_datetime(data['년월'])\n",
    "    data['년월값']=data['년월값'].map(dt.datetime.toordinal)\n",
    "\n",
    "    X=pd.DataFrame(data[data['읍면동']==i]['년월값'])\n",
    "    y=pd.DataFrame(data[data['읍면동']==i]['총 유동인구'])\n",
    "    \n",
    "    X['년월']=X['년월값'].map(dt.date.fromordinal)\n",
    "    X['년월']=pd.to_datetime(X['년월'])\n",
    "    \n",
    "    data_list=X['년월'].to_list()\n",
    "    data_list\n",
    "    df=pd.DataFrame({'year_month': data_list})    \n",
    "    \n",
    "    X=X.reset_index()\n",
    "    X['년월']= df['year_month'].dt.strftime('%Y-%m')\n",
    "    \n",
    "    line_fitter=LinearRegression()\n",
    "    line_fitter.fit(X['년월값'].values.reshape(-1,1),y)\n",
    "    \n",
    "    a=line_fitter.predict([[X['년월값'][11]+30]])\n",
    "    predict_people_all.append(int(np.round([[a]][-1][-1])))"
   ]
  },
  {
   "cell_type": "markdown",
   "metadata": {},
   "source": [
    "## 동별, 달별 데이터 구축\n",
    "* 월별 유동인구 수 데이터\n",
    "* 2020-08 유동인구 예측 데이터\n"
   ]
  },
  {
   "cell_type": "code",
   "execution_count": 21,
   "metadata": {},
   "outputs": [],
   "source": [
    "data_per_month=data[['구군','읍면동','년월','총 유동인구']]"
   ]
  },
  {
   "cell_type": "code",
   "execution_count": 22,
   "metadata": {},
   "outputs": [],
   "source": [
    "data_per_dong=data[data['월']==8].copy()\n",
    "data_per_dong['총 인구']=0\n",
    "for i in range(len(data_per_dong['읍면동'])):\n",
    "    for j in range(len(data_total['읍면동'])):\n",
    "        if (data_per_dong['읍면동'][i]==data_total['읍면동'][j]):\n",
    "                data_per_dong['총 인구'][i]=data_total['총 인구수'][j]\n",
    "                \n",
    "# data['총 인구']=data['읍면동'].apply(lambda x: data_total.loc[data_total['읍면동']==x].iloc[0,2])\n",
    "                \n",
    "data_per_dong=data_per_dong[['구군','읍면동','년월','총 유동인구','총 인구']]"
   ]
  },
  {
   "cell_type": "code",
   "execution_count": 23,
   "metadata": {},
   "outputs": [],
   "source": [
    "data_per_dong=data_per_dong[['구군','읍면동','총 인구']]\n",
    "data_per_dong['예측 유동인구']=0\n",
    "for i in range(len(predict_people_all)):\n",
    "    data_per_dong['예측 유동인구'][i]=predict_people_all[i]"
   ]
  },
  {
   "cell_type": "markdown",
   "metadata": {},
   "source": [
    "# 2020년 8월 구매력 예측"
   ]
  },
  {
   "cell_type": "markdown",
   "metadata": {},
   "source": [
    "## 부산시_구별_구매력 데이터 전처리"
   ]
  },
  {
   "cell_type": "code",
   "execution_count": 24,
   "metadata": {},
   "outputs": [],
   "source": [
    "data_money['년도월']=0\n",
    "for i in range(len(data_money['년도'])):\n",
    "        data_money['년도월'][i]=str(data_money['년도'][i])+'.'+str(data_money['월'][i])\n",
    "        data_money['년도월'][i]=pd.to_datetime(data_money['년도월'][i])\n",
    "        \n",
    "\n",
    "data_money_list=data_money['년도월'].to_list()\n",
    "data_money_list\n",
    "df=pd.DataFrame({'year_month': data_money_list})\n",
    "\n",
    "data_money['년도월']= df['year_month'].dt.strftime('%Y-%m') \n",
    "\n",
    "for i in range(len(data_money['3개월 총 카드이용금액(천원)'])):\n",
    "    data_money['3개월 총 카드이용금액(천원)'][i]=int(data_money['3개월 총 카드이용금액(천원)'][i].replace(',',''))\n",
    "    \n",
    "data_money=data_money[['구군','년도월','3개월 총 카드이용금액(천원)']]\n",
    "data_money.columns=['구군','년도월','카드이용금액(천원)']"
   ]
  },
  {
   "cell_type": "markdown",
   "metadata": {},
   "source": [
    "## Linear Regression을 이용한 부산시_구별_구매력 예측"
   ]
  },
  {
   "cell_type": "code",
   "execution_count": 25,
   "metadata": {},
   "outputs": [],
   "source": [
    "data_money_list=data_money['구군'].tolist()\n",
    "\n",
    "money_power=[]\n",
    "for i in data_money_list:\n",
    "    data_money['년월값']=0\n",
    "    data_money['년월값']=pd.to_datetime(data_money['년도월'])\n",
    "    data_money['년월값']=data_money['년월값'].map(dt.datetime.toordinal)\n",
    "\n",
    "    X=pd.DataFrame(data_money[data_money['구군']==i]['년월값'])\n",
    "    y=pd.DataFrame(data_money[data_money['구군']==i]['카드이용금액(천원)'])\n",
    "\n",
    "    X['년월']=X['년월값'].map(dt.date.fromordinal)\n",
    "    X['년월']=pd.to_datetime(X['년월'])\n",
    "\n",
    "    data_list=X['년월'].to_list()\n",
    "    data_list\n",
    "    df=pd.DataFrame({'year_month': data_list})    \n",
    "\n",
    "    X=X.reset_index()\n",
    "    X['년월']= df['year_month'].dt.strftime('%Y-%m')\n",
    "\n",
    "    line_fitter=LinearRegression()\n",
    "    line_fitter.fit(X['년월값'].values.reshape(-1,1),y)\n",
    "\n",
    "    a=line_fitter.predict([[X['년월값'][2]+91]])\n",
    "    money_power.append(int(np.round([[a]][-1][-1])))\n",
    "    \n",
    "data_money['예측 구매력']=0\n",
    "for i in range(len(money_power)):\n",
    "    data_money['예측 구매력'][i]=money_power[i]\n",
    "    \n",
    "data_predict_money=data_money.drop_duplicates('예측 구매력')\n",
    "data_predict_money=data_predict_money[['구군','예측 구매력']]\n",
    "\n",
    "data_per_dong_sum=data_per_dong.groupby('구군').sum()\n",
    "data_per_dong_sum=data_per_dong_sum.reset_index()\n",
    "\n",
    "data_predict_money['총 인구']=0\n",
    "data_predict_money['예측 유동인구']=0\n",
    "\n",
    "for i in range(len(data_predict_money['구군'])):\n",
    "    for j in range(len(data_per_dong_sum['구군'])):\n",
    "        if (data_predict_money['구군'][i]==data_per_dong_sum['구군'][j]):\n",
    "            data_predict_money['총 인구'][i]=data_per_dong_sum['총 인구'][j]\n",
    "            data_predict_money['예측 유동인구'][i]=data_per_dong_sum['예측 유동인구'][j]"
   ]
  },
  {
   "cell_type": "markdown",
   "metadata": {},
   "source": [
    "# RandomForest Regressor 사용\n",
    "* 미래 시간에 대한 예측이 이루어지지 않아서 사용 불가"
   ]
  },
  {
   "cell_type": "code",
   "execution_count": 26,
   "metadata": {},
   "outputs": [],
   "source": [
    "# from sklearn.ensemble import RandomForestRegressor\n",
    "\n",
    "# predict_list=data[data['읍면동']!='장전3동']['읍면동'].unique().tolist()\n",
    "# predict_people_all2=[]\n",
    "# for i in predict_list:\n",
    "#     data['년월값']=0\n",
    "#     data['년월값']=pd.to_datetime(data['년월'])\n",
    "#     data['년월값']=data['년월값'].map(dt.datetime.toordinal)\n",
    "\n",
    "#     X=pd.DataFrame(data[data['읍면동']==i]['년월값'])\n",
    "#     y=pd.DataFrame(data[data['읍면동']==i]['총 유동인구'])\n",
    "    \n",
    "#     X['년월']=X['년월값'].map(dt.date.fromordinal)\n",
    "#     X['년월']=pd.to_datetime(X['년월'])\n",
    "    \n",
    "#     data_list=X['년월'].to_list()\n",
    "#     data_list\n",
    "#     df=pd.DataFrame({'year_month': data_list})    \n",
    "    \n",
    "#     X=X.reset_index()\n",
    "#     X['년월']= df['year_month'].dt.strftime('%Y-%m')\n",
    "    \n",
    "#     line_fitter=RandomForestRegressor(max_depth=2, random_state=0, max_samples=9, n_jobs=-1)\n",
    "#     line_fitter.fit(X['년월값'].values.reshape(-1,1),y)\n",
    "    \n",
    "#     a=line_fitter.predict([[X['년월값'][11]+30]])\n",
    "#     predict_people_all2.append(int(np.round([[a]][-1][-1])))"
   ]
  },
  {
   "cell_type": "markdown",
   "metadata": {},
   "source": [
    "## 구별 데이터를 동별 데이터로 변환작업"
   ]
  },
  {
   "cell_type": "code",
   "execution_count": 27,
   "metadata": {},
   "outputs": [],
   "source": [
    "data_predict_money['인구 별 구매력']=0\n",
    "data_predict_money['인구 별 구매력']=data_predict_money['예측 구매력']/data_predict_money['총 인구']\n",
    "\n",
    "data_money_power=pd.merge(data_predict_money, data_per_dong,on='구군',how='right')\n",
    "data_money_power=data_money_power[['구군','읍면동','총 인구_y','인구 별 구매력','총 인구_x','예측 구매력']]\n",
    "\n",
    "data_money_power['구의 동별 평균 인구']=0\n",
    "data_money_power['구의 동별 평균 구매력']=0\n",
    "\n",
    "gu_count=[]\n",
    "people_per_dong_in_gu=[]\n",
    "money_per_dong_in_gu=[]\n",
    "gu_list=data_money_power['구군'].unique().tolist()\n",
    "dong_list=data_money_power['읍면동'].unique().tolist()"
   ]
  },
  {
   "cell_type": "code",
   "execution_count": 28,
   "metadata": {
    "scrolled": true
   },
   "outputs": [],
   "source": [
    "data_predict_money['인구 별 구매력']=0\n",
    "data_predict_money['인구 별 구매력']=data_predict_money['예측 구매력']/data_predict_money['총 인구']\n",
    "\n",
    "data_money_power=pd.merge(data_predict_money, data_per_dong,on='구군',how='right')\n",
    "data_money_power=data_money_power[['구군','읍면동','총 인구_y','인구 별 구매력','총 인구_x','예측 구매력']]\n",
    "\n",
    "data_money_power['구의 동별 평균 인구']=0\n",
    "data_money_power['구의 동별 평균 구매력']=0\n",
    "\n",
    "gu_count=[]\n",
    "people_per_dong_in_gu=[]\n",
    "money_per_dong_in_gu=[]\n",
    "gu_list=data_money_power['구군'].unique().tolist()\n",
    "dong_list=data_money_power['읍면동'].unique().tolist()\n",
    "for i in gu_list:\n",
    "    gu_count.append(collections.Counter(data_money_power['구군'])[i])\n",
    "\n",
    "for i in range(len(gu_count)):\n",
    "    people_per_dong_in_gu.append(data_money_power['총 인구_x'].unique().tolist()[i]/gu_count[i])\n",
    "    money_per_dong_in_gu.append(round(data_money_power['예측 구매력'].unique().tolist()[i]/gu_count[i],-3))\n",
    "    \n",
    "array_people = []\n",
    "array_money=[]\n",
    "n=0\n",
    "for i in people_per_dong_in_gu:\n",
    "    if n<=len(gu_count):\n",
    "        for j in range(gu_count[n]):\n",
    "                array_people.append(i)\n",
    "        n+=1\n",
    "        \n",
    "n=0\n",
    "for i in money_per_dong_in_gu:\n",
    "    if n<=len(gu_count):\n",
    "        for j in range(gu_count[n]):\n",
    "                array_money.append(i)\n",
    "        n+=1  \n",
    "            \n",
    "for i in range(len(array_money)):\n",
    "    data_money_power['구의 동별 평균 인구'][i]=array_people[i]\n",
    "    data_money_power['구의 동별 평균 구매력'][i]=array_money[i]\n",
    "    \n",
    "data_money_power['동별 구매력']=0\n",
    "data_money_power['동별 구매력']=data_money_power['총 인구_y']*data_money_power['인구 별 구매력']\n",
    "\n",
    "data_money_power['동별 구매력']=round(data_money_power['동별 구매력'],-3)"
   ]
  },
  {
   "cell_type": "code",
   "execution_count": 29,
   "metadata": {},
   "outputs": [],
   "source": [
    "data_benifit=data_benifit[['행정동명','매출액 대비 영업이익']]\n",
    "data_benifit.columns=['읍면동','영업이익/매출액(%)']\n",
    "data_money_power=pd.merge(data_money_power, data_benifit, on='읍면동', how='left')"
   ]
  },
  {
   "cell_type": "markdown",
   "metadata": {},
   "source": [
    "## 동별 데이터에 병합"
   ]
  },
  {
   "cell_type": "code",
   "execution_count": 30,
   "metadata": {
    "scrolled": true
   },
   "outputs": [],
   "source": [
    "data_per_dong=pd.merge(data_per_dong,data_money_power,on='읍면동',how='left')\n",
    "data_per_dong=data_per_dong[['구군_x','읍면동','총 인구','예측 유동인구','동별 구매력',\n",
    "                             '구의 동별 평균 인구','구의 동별 평균 구매력','영업이익/매출액(%)']]\n",
    "data_per_dong.columns=['구군','읍면동','총 인구','예측 유동인구','예측 구매력',\n",
    "                      '구의 동별 평균 인구','구의 동별 평균 구매력','영업이익/매출액(%)']"
   ]
  },
  {
   "cell_type": "markdown",
   "metadata": {},
   "source": [
    "# 동별 경쟁업체 수 병합"
   ]
  },
  {
   "cell_type": "code",
   "execution_count": 31,
   "metadata": {},
   "outputs": [],
   "source": [
    "data_rival=data_rival[data_rival['행정동명']!='장전3동'].reset_index().copy()\n",
    "data_rival=data_rival[['행정동명','편의점수','대형마트수','슈퍼마켓수','합계']]\n",
    "data_rival.columns=['읍면동','편의점 수','대형마트 수','슈퍼마켓 수','경쟁업체 수']\n",
    "data_per_dong=pd.merge(data_per_dong, data_rival, on='읍면동', how='left')"
   ]
  },
  {
   "cell_type": "code",
   "execution_count": 32,
   "metadata": {},
   "outputs": [],
   "source": [
    "for i in range(len(data_per_dong['예측 구매력'])):\n",
    "    data_per_dong['예측 구매력'][i]=int(data_per_dong['예측 구매력'][i])\n",
    "    data_per_dong['편의점 수'][i]=int(data_per_dong['편의점 수'][i])\n",
    "    data_per_dong['대형마트 수'][i]=int(data_per_dong['대형마트 수'][i])\n",
    "    data_per_dong['슈퍼마켓 수'][i]=int(data_per_dong['슈퍼마켓 수'][i])\n",
    "    data_per_dong['경쟁업체 수'][i]=int(data_per_dong['경쟁업체 수'][i])"
   ]
  },
  {
   "cell_type": "markdown",
   "metadata": {},
   "source": [
    "## 정규화 과정"
   ]
  },
  {
   "cell_type": "code",
   "execution_count": 33,
   "metadata": {},
   "outputs": [],
   "source": [
    "data_per_dong['총 인구_정규화']=''\n",
    "data_per_dong['총 인구_정규화']=z_score_normalize(data_per_dong['총 인구'].tolist())\n",
    "data_per_dong['예측 유동인구_정규화']=''\n",
    "data_per_dong['예측 유동인구_정규화']=z_score_normalize(data_per_dong['예측 유동인구'].tolist())\n",
    "data_per_dong['예측 구매력_정규화']=''\n",
    "data_per_dong['예측 구매력_정규화']=z_score_normalize(data_per_dong['예측 구매력'].tolist())\n",
    "data_per_dong['영업이익/매출액(%)_정규화']=''\n",
    "data_per_dong['영업이익/매출액(%)_정규화']=z_score_normalize(data_per_dong['영업이익/매출액(%)'].tolist())\n",
    "data_per_dong['경쟁업체 수_정규화']=''\n",
    "data_per_dong['경쟁업체 수_정규화']=z_score_normalize(data_per_dong['경쟁업체 수'].tolist())\n",
    "data_per_dong['구의 동별 평균 인구_정규화']=''\n",
    "data_per_dong['구의 동별 평균 인구_정규화']=z_score_normalize(data_per_dong['구의 동별 평균 인구'].tolist())\n",
    "data_per_dong['구의 동별 평균 구매력_정규화']=''\n",
    "data_per_dong['구의 동별 평균 구매력_정규화']=z_score_normalize(data_per_dong['구의 동별 평균 구매력'].tolist())"
   ]
  },
  {
   "cell_type": "code",
   "execution_count": 34,
   "metadata": {},
   "outputs": [],
   "source": [
    "dong_list_per_gu=[dong_list[:9], dong_list[9:22], dong_list[22:33], dong_list[33:44],\n",
    "                 dong_list[44:64], dong_list[64:77], dong_list[77:94], dong_list[94:107],\n",
    "                  dong_list[107:124], dong_list[124:140], dong_list[140:155], dong_list[155:161],\n",
    "                 dong_list[161:173], dong_list[173:183], dong_list[183:195], dong_list[195:199]]"
   ]
  },
  {
   "cell_type": "markdown",
   "metadata": {},
   "source": [
    "# 소상공인 등급과 비교\n",
    "* 비교를 통해 우리의 가중치가 유의미한지 판단"
   ]
  },
  {
   "cell_type": "code",
   "execution_count": 35,
   "metadata": {},
   "outputs": [],
   "source": [
    "compare_list=pd.read_csv('./data/score_list.csv')\n",
    "compare_list.columns=['구군','읍면동','등급']"
   ]
  },
  {
   "cell_type": "code",
   "execution_count": 36,
   "metadata": {},
   "outputs": [],
   "source": [
    "# most=[]\n",
    "# for j1 in range(10, 21, 1):\n",
    "#     for j2 in range(10, 21, 1):\n",
    "#         for j3 in range(10, 21, 1):\n",
    "#             for j4 in range(10, 21, 1):\n",
    "#                 for j5 in range(10, 21, 1):\n",
    "#                         # Depts = [\"경쟁업체(십)\",\"영업이익/매출액(%)\",\"구매력(오백만)\",\"유동인구(만)\", \"총인구(천)\"]\n",
    "\n",
    "#                     grade_list=[]\n",
    "#                     for want_store in dong_list:\n",
    "#                         want_data=data_per_dong[data_per_dong['읍면동']==want_store]\n",
    "#                         want_s=[want_data['경쟁업체 수'].tolist()[0]/10, want_data['영업이익/매출액(%)'].tolist()[0], want_data['예측 구매력'].tolist()[0]/5000000, \n",
    "#                                 want_data['예측 유동인구'].tolist()[0]/10000, want_data['총 인구'].tolist()[0]/1000, want_data['경쟁업체 수'].tolist()[0]/10]\n",
    "\n",
    "#                         # 평균 상권\n",
    "#                         ave_data=data_per_dong[data_per_dong['구군']==want_data['구군'].tolist()[0]]\n",
    "#                         ave_s=[ave_data['경쟁업체 수'].sum()/len(ave_data['경쟁업체 수'])/10, ave_data['영업이익/매출액(%)'].sum()/len(ave_data['영업이익/매출액(%)']), \n",
    "#                                want_data['구의 동별 평균 구매력'].tolist()[0]/5000000, ave_data['예측 유동인구'].sum()/len(ave_data['예측 유동인구'])/10000, \n",
    "#                                want_data['구의 동별 평균 인구'].tolist()[0]/1000,ave_data['경쟁업체 수'].sum()/len(ave_data['경쟁업체 수'])/10]\n",
    "\n",
    "#                         nor_want_s=[want_data['경쟁업체 수_정규화'].tolist()[0], want_data['영업이익/매출액(%)_정규화'].tolist()[0],\n",
    "#                                     want_data['예측 구매력_정규화'].tolist()[0], want_data['예측 유동인구_정규화'].tolist()[0],\n",
    "#                                     want_data['총 인구_정규화'].tolist()[0], want_data['경쟁업체 수_정규화'].tolist()[0]]\n",
    "\n",
    "#                         nor_ave_s=[ave_data['경쟁업체 수_정규화'].sum()/len(ave_data['경쟁업체 수_정규화']),\n",
    "#                                    ave_data['영업이익/매출액(%)_정규화'].sum()/len(ave_data['영업이익/매출액(%)_정규화']), \n",
    "#                                want_data['구의 동별 평균 구매력_정규화'].tolist()[0], ave_data['예측 유동인구_정규화'].sum()/len(ave_data['예측 유동인구_정규화']), \n",
    "#                                want_data['구의 동별 평균 인구_정규화'].tolist()[0],ave_data['경쟁업체 수_정규화'].sum()/len(ave_data['경쟁업체 수_정규화'])]\n",
    "\n",
    "#                         grade_store_list=[]\n",
    "#                         for i in range(len(nor_want_s)):\n",
    "#                             if i==0:\n",
    "#                                 grade_store_list.append(-(nor_want_s[i]-nor_ave_s[i])*j1/10)\n",
    "#                             elif i==1:\n",
    "#                                 grade_store_list.append((nor_want_s[i]-nor_ave_s[i])*j2/10)\n",
    "#                             elif i==2:\n",
    "#                                 grade_store_list.append((nor_want_s[i]-nor_ave_s[i])*j3/10)\n",
    "#                             elif i==3:\n",
    "#                                 grade_store_list.append((nor_want_s[i]-nor_ave_s[i])*j4/10)   \n",
    "#                             elif i==4:\n",
    "#                                 grade_store_list.append((nor_want_s[i]-nor_ave_s[i])*j5/10)\n",
    "\n",
    "#                         grade_list.append(sum(grade_store_list))\n",
    "\n",
    "#                     # 비교를 위한 작업\n",
    "#                     data_per_dong['등급 점수']=float(0)\n",
    "#                     data_per_dong['등급']=''\n",
    "#                     for i in range(199):\n",
    "#                         data_per_dong['등급 점수'][i]=grade_list[i]\n",
    "\n",
    "#                     for i in range(199):\n",
    "#                         if data_per_dong['등급 점수'][i]>=sorted(grade_list)[-44]:\n",
    "#                             data_per_dong['등급'][i]=2\n",
    "#                         elif sorted(grade_list)[-164]<=data_per_dong['등급 점수'][i]<sorted(grade_list)[-44]:\n",
    "#                             data_per_dong['등급'][i]=3\n",
    "#                         elif sorted(grade_list)[1]<=data_per_dong['등급 점수'][i]<sorted(grade_list)[-164]:\n",
    "#                             data_per_dong['등급'][i]=4\n",
    "#                         elif data_per_dong['등급 점수'][i]<sorted(grade_list)[1]:\n",
    "#                             data_per_dong['등급'][i]=5\n",
    "\n",
    "\n",
    "#                     data_all=pd.merge(data_per_month, data_per_dong, on='읍면동', how='left')\n",
    "#                     data_all=data_all[['구군_x','읍면동','년월','총 유동인구','총 인구','예측 유동인구',\n",
    "#                                        '예측 구매력','구의 동별 평균 인구','구의 동별 평균 구매력','영업이익/매출액(%)',\n",
    "#                                        '편의점 수','대형마트 수','슈퍼마켓 수','경쟁업체 수',\n",
    "#                                       '총 인구_정규화','예측 유동인구_정규화','예측 구매력_정규화',\n",
    "#                                        '영업이익/매출액(%)_정규화','경쟁업체 수_정규화',\n",
    "#                                       '구의 동별 평균 인구_정규화','구의 동별 평균 구매력_정규화',\n",
    "#                                       '등급 점수','등급']]\n",
    "#                     data_all.columns=['구군','읍면동','년월','총 유동인구','총 인구','예측 유동인구',\n",
    "#                                        '예측 구매력','구의 동별 평균 인구','구의 동별 평균 구매력','영업이익/매출액(%)',\n",
    "#                                        '편의점 수','대형마트 수','슈퍼마켓 수','경쟁업체 수',\n",
    "#                                       '총 인구_정규화','예측 유동인구_정규화','예측 구매력_정규화',\n",
    "#                                        '영업이익/매출액(%)_정규화','경쟁업체 수_정규화',\n",
    "#                                       '구의 동별 평균 인구_정규화','구의 동별 평균 구매력_정규화',\n",
    "#                                      '등급 점수','등급']\n",
    "\n",
    "#                     sel_da=data_all[:199][['구군','읍면동','등급']]\n",
    "\n",
    "#                     sel_da['등급비교']=0\n",
    "#                     for i in range(len(compare_list)):\n",
    "#                         sel_da['등급비교'][i]=abs(sel_da['등급'][i]-compare_list['등급'][i])\n",
    "\n",
    "#                     grade_ans=len(sel_da[sel_da['등급비교']==0])\n",
    "#                     print('정답률은 %0.1f입니다.' %(grade_ans/199*100), end=' ')\n",
    "#                     print([j1/10, j2/10, j3/10, j4/10, j5/10])\n",
    "#                     most.append(grade_ans/199*100)"
   ]
  },
  {
   "cell_type": "code",
   "execution_count": 37,
   "metadata": {},
   "outputs": [],
   "source": [
    "grade_list=[]\n",
    "for want_store in dong_list:\n",
    "    want_data=data_per_dong[data_per_dong['읍면동']==want_store]\n",
    "    want_s=[want_data['경쟁업체 수'].tolist()[0]/10, want_data['영업이익/매출액(%)'].tolist()[0], want_data['예측 구매력'].tolist()[0]/5000000, \n",
    "            want_data['예측 유동인구'].tolist()[0]/10000, want_data['총 인구'].tolist()[0]/1000, want_data['경쟁업체 수'].tolist()[0]/10]\n",
    "\n",
    "    # 평균 상권\n",
    "    ave_data=data_per_dong[data_per_dong['구군']==want_data['구군'].tolist()[0]]\n",
    "    ave_s=[ave_data['경쟁업체 수'].sum()/len(ave_data['경쟁업체 수'])/10, ave_data['영업이익/매출액(%)'].sum()/len(ave_data['영업이익/매출액(%)']), \n",
    "           want_data['구의 동별 평균 구매력'].tolist()[0]/5000000, ave_data['예측 유동인구'].sum()/len(ave_data['예측 유동인구'])/10000, \n",
    "           want_data['구의 동별 평균 인구'].tolist()[0]/1000,ave_data['경쟁업체 수'].sum()/len(ave_data['경쟁업체 수'])/10]\n",
    "\n",
    "    nor_want_s=[want_data['경쟁업체 수_정규화'].tolist()[0], want_data['영업이익/매출액(%)_정규화'].tolist()[0],\n",
    "                want_data['예측 구매력_정규화'].tolist()[0], want_data['예측 유동인구_정규화'].tolist()[0],\n",
    "                want_data['총 인구_정규화'].tolist()[0], want_data['경쟁업체 수_정규화'].tolist()[0]]\n",
    "\n",
    "    nor_ave_s=[ave_data['경쟁업체 수_정규화'].sum()/len(ave_data['경쟁업체 수_정규화']),\n",
    "               ave_data['영업이익/매출액(%)_정규화'].sum()/len(ave_data['영업이익/매출액(%)_정규화']), \n",
    "           want_data['구의 동별 평균 구매력_정규화'].tolist()[0], ave_data['예측 유동인구_정규화'].sum()/len(ave_data['예측 유동인구_정규화']), \n",
    "           want_data['구의 동별 평균 인구_정규화'].tolist()[0],ave_data['경쟁업체 수_정규화'].sum()/len(ave_data['경쟁업체 수_정규화'])]\n",
    "\n",
    "    grade_store_list=[]\n",
    "    for i in range(len(nor_want_s)):\n",
    "        if i==0:\n",
    "            grade_store_list.append(-(nor_want_s[i]-nor_ave_s[i])*1.8)\n",
    "        elif i==2:\n",
    "            grade_store_list.append((nor_want_s[i]-nor_ave_s[i])*1.4)\n",
    "        elif i==4:\n",
    "            grade_store_list.append((nor_want_s[i]-nor_ave_s[i])*1.8)\n",
    "        else:\n",
    "            grade_store_list.append((nor_want_s[i]-nor_ave_s[i]))\n",
    "\n",
    "    grade_list.append(sum(grade_store_list))\n",
    "    \n",
    "data_per_dong['등급 점수']=float(0)\n",
    "data_per_dong['등급']=''\n",
    "for i in range(199):\n",
    "    data_per_dong['등급 점수'][i]=grade_list[i]\n",
    "    \n",
    "for i in range(199):\n",
    "    if data_per_dong['등급 점수'][i]>=sorted(grade_list)[-50]:\n",
    "        data_per_dong['등급'][i]='좋음'\n",
    "    elif np.mean(grade_list)<=data_per_dong['등급 점수'][i]<sorted(grade_list)[-50]:\n",
    "        data_per_dong['등급'][i]='양호'\n",
    "    elif sorted(grade_list)[50]<=data_per_dong['등급 점수'][i]<np.mean(grade_list):\n",
    "        data_per_dong['등급'][i]='고려'\n",
    "    elif data_per_dong['등급 점수'][i]<sorted(grade_list)[50]:\n",
    "        data_per_dong['등급'][i]='나쁨'"
   ]
  },
  {
   "cell_type": "markdown",
   "metadata": {},
   "source": [
    "# 모든 데이터 병합"
   ]
  },
  {
   "cell_type": "code",
   "execution_count": 38,
   "metadata": {
    "scrolled": true
   },
   "outputs": [],
   "source": [
    "data_all=pd.merge(data_per_month, data_per_dong, on='읍면동', how='left')\n",
    "data_all=data_all[['구군_x','읍면동','년월','총 유동인구','총 인구','예측 유동인구',\n",
    "                   '예측 구매력','구의 동별 평균 인구','구의 동별 평균 구매력','영업이익/매출액(%)',\n",
    "                   '편의점 수','대형마트 수','슈퍼마켓 수','경쟁업체 수',\n",
    "                  '총 인구_정규화','예측 유동인구_정규화','예측 구매력_정규화',\n",
    "                   '영업이익/매출액(%)_정규화','경쟁업체 수_정규화',\n",
    "                  '구의 동별 평균 인구_정규화','구의 동별 평균 구매력_정규화',\n",
    "                  '등급 점수','등급']]\n",
    "data_all.columns=['구군','읍면동','년월','총 유동인구','총 인구','예측 유동인구',\n",
    "                   '예측 구매력','구의 동별 평균 인구','구의 동별 평균 구매력','영업이익/매출액(%)',\n",
    "                   '편의점 수','대형마트 수','슈퍼마켓 수','경쟁업체 수',\n",
    "                  '총 인구_정규화','예측 유동인구_정규화','예측 구매력_정규화',\n",
    "                   '영업이익/매출액(%)_정규화','경쟁업체 수_정규화',\n",
    "                  '구의 동별 평균 인구_정규화','구의 동별 평균 구매력_정규화',\n",
    "                 '등급 점수','등급']"
   ]
  },
  {
   "cell_type": "markdown",
   "metadata": {},
   "source": [
    "# 경도/위도 추가"
   ]
  },
  {
   "cell_type": "code",
   "execution_count": 39,
   "metadata": {},
   "outputs": [],
   "source": [
    "use_data=data_do[data_do['구분코드']!='0'].copy().drop(columns=['Unnamed: 0'])\n",
    "\n",
    "data_long=[]\n",
    "data_lati=[]\n",
    "\n",
    "for i in dong_list:\n",
    "    data_long.append(sum(use_data[use_data['행정동명']==i]['경도'])/len(use_data[use_data['행정동명']==i]['경도']))\n",
    "    data_lati.append(sum(use_data[use_data['행정동명']==i]['위도'])/len(use_data[use_data['행정동명']==i]['위도']))\n",
    "    \n",
    "df_center=pd.DataFrame(data={'읍면동':dong_list, '경도' :data_long, '위도' :data_lati})\n",
    "data_all=pd.merge(data_all, df_center, how='left', on='읍면동')"
   ]
  },
  {
   "cell_type": "markdown",
   "metadata": {},
   "source": [
    "## 데이터 저장"
   ]
  },
  {
   "cell_type": "code",
   "execution_count": 40,
   "metadata": {
    "scrolled": true
   },
   "outputs": [],
   "source": [
    "data_per_month.to_csv('./data/save/부산_읍면동_월별_총 유동인구.csv', encoding='euc-kr')\n",
    "data_per_dong.to_csv('./data/save/부산_동별_데이터.csv', encoding='euc-kr')\n",
    "data_all.to_csv('./data/save/부산_읍면동_최종 데이터.csv', encoding='euc-kr')"
   ]
  },
  {
   "cell_type": "code",
   "execution_count": 41,
   "metadata": {},
   "outputs": [
    {
     "name": "stdout",
     "output_type": "stream",
     "text": [
      "153358명\n"
     ]
    },
    {
     "data": {
      "image/png": "[encoded data removed]",
      "text/plain": [
       "<Figure size 432x288 with 1 Axes>"
      ]
     },
     "metadata": {
      "image/png": {
       "height": 261,
       "width": 393
      },
      "needs_background": "light"
     },
     "output_type": "display_data"
    }
   ],
   "source": [
    "predict_people('중앙동','총 유동인구')"
   ]
  },
  {
   "cell_type": "code",
   "execution_count": 36,
   "metadata": {
    "scrolled": true
   },
   "outputs": [],
   "source": [
    "# predict_money_power('금정구')"
   ]
  },
  {
   "cell_type": "markdown",
   "metadata": {},
   "source": [
    "## 상권 분석 시각화\n",
    "### 상권의 등급 매기기\n",
    "* 원하는 상권과 그 상권이 속한 구의 평균 상권의 차이를 구해서 각 항목의 합을 구함\n",
    "    * 단위가 차이 나기 때문에 개별 컬럼별로 Z-normalization을 해주고 가중치를 조절함\n",
    "        * 유동인구, 영업이익/매출액(%), 경쟁업체 순으로 영향을 미친다고 생각하여 그에 따른 가중치 추가\n",
    "        * 소상공인 상권분석 서비스와 비교하여 가장 비슷했던 [1.8, 1.0, 1.4, 1.0, 1.8]을 가중치로 쓰기로 결정 \n",
    "    * 하위 25% : 나쁨, 하위 25%-평균 : 고려, 평균-상위 25% : 양호, 상위 25% : 좋음이라고 평가"
   ]
  },
  {
   "cell_type": "code",
   "execution_count": 37,
   "metadata": {
    "scrolled": false
   },
   "outputs": [
    {
     "name": "stdout",
     "output_type": "stream",
     "text": [
      "중구\n",
      "['중앙동', '동광동', '대청동', '보수동', '부평동', '광복동', '남포동', '영주1동', '영주2동']\n",
      "서구\n",
      "['동대신1동', '동대신2동', '동대신3동', '서대신1동', '서대신3동', '서대신4동', '부민동', '아미동', '초장동', '충무동', '남부민1동', '남부민2동', '암남동']\n",
      "동구\n",
      "['초량1동', '초량2동', '초량3동', '초량6동', '수정1동', '수정2동', '수정4동', '수정5동', '범일1동', '범일2동', '범일5동']\n",
      "영도구\n",
      "['남항동', '영선1동', '영선2동', '신선동', '봉래1동', '봉래2동', '청학1동', '청학2동', '동삼1동', '동삼2동', '동삼3동']\n",
      "부산진구\n",
      "['부전1동', '부전2동', '연지동', '초읍동', '양정1동', '양정2동', '전포1동', '전포2동', '부암1동', '부암3동', '당감1동', '당감2동', '당감4동', '가야1동', '가야2동', '개금1동', '개금2동', '개금3동', '범천1동', '범천2동']\n",
      "동래구\n",
      "['수민동', '복산동', '명륜동', '온천1동', '온천2동', '온천3동', '사직1동', '사직2동', '사직3동', '안락1동', '안락2동', '명장1동', '명장2동']\n",
      "남구\n",
      "['대연1동', '대연3동', '대연4동', '대연5동', '대연6동', '용호1동', '용호2동', '용호3동', '용호4동', '용당동', '감만1동', '감만2동', '우암동', '문현1동', '문현2동', '문현3동', '문현4동']\n",
      "북구\n",
      "['구포1동', '구포2동', '구포3동', '금곡동', '화명1동', '화명2동', '화명3동', '덕천1동', '덕천2동', '덕천3동', '만덕1동', '만덕2동', '만덕3동']\n",
      "해운대구\n",
      "['우1동', '우2동', '중1동', '중2동', '좌1동', '좌2동', '좌3동', '좌4동', '송정동', '반여1동', '반여2동', '반여3동', '반여4동', '반송1동', '반송2동', '재송1동', '재송2동']\n",
      "사하구\n",
      "['괴정1동', '괴정2동', '괴정3동', '괴정4동', '당리동', '하단1동', '하단2동', '신평1동', '신평2동', '장림1동', '장림2동', '다대1동', '다대2동', '구평동', '감천1동', '감천2동']\n",
      "금정구\n",
      "['서1동', '서2동', '서3동', '부곡1동', '부곡2동', '부곡3동', '부곡4동', '장전1동', '장전2동', '선두구동', '청룡노포동', '남산동', '구서1동', '구서2동', '금성동']\n",
      "강서구\n",
      "['대저1동', '대저2동', '강동동', '가락동', '녹산동', '가덕도동']\n",
      "연제구\n",
      "['거제1동', '거제2동', '거제3동', '거제4동', '연산1동', '연산2동', '연산3동', '연산4동', '연산5동', '연산6동', '연산8동', '연산9동']\n",
      "수영구\n",
      "['남천1동', '남천2동', '수영동', '망미1동', '망미2동', '광안1동', '광안2동', '광안3동', '광안4동', '민락동']\n",
      "사상구\n",
      "['삼락동', '모라1동', '모라3동', '덕포1동', '덕포2동', '괘법동', '감전동', '주례1동', '주례2동', '주례3동', '학장동', '엄궁동']\n",
      "기장군\n",
      "['기장읍', '장안읍', '일광면', '철마면']\n",
      "기장읍\n"
     ]
    },
    {
     "data": {
      "image/png": "[encoded data removed]",
      "text/plain": [
       "<Figure size 720x432 with 1 Axes>"
      ]
     },
     "metadata": {
      "image/png": {
       "height": 384,
       "width": 395
      },
      "needs_background": "light"
     },
     "output_type": "display_data"
    }
   ],
   "source": [
    "Depts = [\"경쟁업체(십)\",\"영업이익/매출액(%)\",\"구매력(오백만)\",\"유동인구(만)\", \"총인구(천)\"]\n",
    "# 진입 상권\n",
    "\n",
    "for i in range(len(gu_list)):\n",
    "    print(gu_list[i])\n",
    "    print(dong_list_per_gu[i])\n",
    "    \n",
    "want_store=input()\n",
    "want_data=data_per_dong[data_per_dong['읍면동']==want_store]\n",
    "want_s=[want_data['경쟁업체 수'].tolist()[0]/10, want_data['영업이익/매출액(%)'].tolist()[0], want_data['예측 구매력'].tolist()[0]/5000000, \n",
    "        want_data['예측 유동인구'].tolist()[0]/10000, want_data['총 인구'].tolist()[0]/1000, want_data['경쟁업체 수'].tolist()[0]/10]\n",
    "\n",
    "# 평균 상권\n",
    "ave_data=data_per_dong[data_per_dong['구군']==want_data['구군'].tolist()[0]]\n",
    "ave_s=[ave_data['경쟁업체 수'].sum()/len(ave_data['경쟁업체 수'])/10, ave_data['영업이익/매출액(%)'].sum()/len(ave_data['영업이익/매출액(%)']), \n",
    "       want_data['구의 동별 평균 구매력'].tolist()[0]/5000000, ave_data['예측 유동인구'].sum()/len(ave_data['예측 유동인구'])/10000, \n",
    "       want_data['구의 동별 평균 인구'].tolist()[0]/1000,ave_data['경쟁업체 수'].sum()/len(ave_data['경쟁업체 수'])/10]\n",
    "\n",
    "nor_want_s=[want_data['경쟁업체 수_정규화'].tolist()[0], want_data['영업이익/매출액(%)_정규화'].tolist()[0],\n",
    "            want_data['예측 구매력_정규화'].tolist()[0], want_data['예측 유동인구_정규화'].tolist()[0],\n",
    "            want_data['총 인구_정규화'].tolist()[0], want_data['경쟁업체 수_정규화'].tolist()[0]]\n",
    "\n",
    "nor_ave_s=[ave_data['경쟁업체 수_정규화'].sum()/len(ave_data['경쟁업체 수_정규화']),\n",
    "           ave_data['영업이익/매출액(%)_정규화'].sum()/len(ave_data['영업이익/매출액(%)_정규화']), \n",
    "       want_data['구의 동별 평균 구매력_정규화'].tolist()[0], ave_data['예측 유동인구_정규화'].sum()/len(ave_data['예측 유동인구_정규화']), \n",
    "       want_data['구의 동별 평균 인구_정규화'].tolist()[0],ave_data['경쟁업체 수_정규화'].sum()/len(ave_data['경쟁업체 수_정규화'])]\n",
    "\n",
    "grade_store_list=[]\n",
    "for i in range(len(nor_want_s)):\n",
    "    if i==0:\n",
    "        grade_store_list.append(-(nor_want_s[i]-nor_ave_s[i])*1.8)\n",
    "    elif i==2:\n",
    "        grade_store_list.append((nor_want_s[i]-nor_ave_s[i])*1.4)\n",
    "    elif i==4:\n",
    "        grade_store_list.append((nor_want_s[i]-nor_ave_s[i])*1.8)\n",
    "    else:\n",
    "        grade_store_list.append((nor_want_s[i]-nor_ave_s[i]))\n",
    "\n",
    "grade_store=sum(grade_store_list)\n",
    "\n",
    "grade=''\n",
    "if grade_store>=sorted(grade_list)[-50]:\n",
    "    grade='좋음'\n",
    "elif np.mean(grade_list)<=grade_store<sorted(grade_list)[-50]:\n",
    "    grade='양호'\n",
    "elif sorted(grade_list)[50]<=grade_store<np.mean(grade_list):\n",
    "    grade='고려'\n",
    "elif grade_store<sorted(grade_list)[50]:\n",
    "    grade='나쁨'\n",
    "\n",
    "\n",
    "plt.figure(figsize=(10,6))\n",
    "plt.subplot(polar=True)\n",
    "\n",
    "theta = np.linspace(0, 2 * np.pi, len(want_s))\n",
    "\n",
    "(lines,labels) = plt.thetagrids(range(0,360, int(360/len(Depts))), (Depts))\n",
    "\n",
    "plt.plot(theta, want_s)\n",
    "plt.fill(theta, want_s, 'b', alpha=0.1)\n",
    "plt.plot(theta, ave_s)\n",
    "plt.legend(labels=(want_store,want_data['구군'].tolist()[0]+' 평균 상권'),loc=1)\n",
    "plt.title(want_store+\" 상권분석 서비스 결과->\"+grade)\n",
    "\n",
    "plt.show();"
   ]
  },
  {
   "cell_type": "markdown",
   "metadata": {},
   "source": [
    "# 행정동 시각화 작업\n",
    "## Convex Hell\n",
    "* 시각화 함수"
   ]
  },
  {
   "cell_type": "code",
   "execution_count": 38,
   "metadata": {},
   "outputs": [],
   "source": [
    "# point=use_data[use_data['행정동명']=='중앙동'][['경도','위도']]\n",
    "# point=np.array(point.values.tolist())\n",
    "\n",
    "# from scipy.spatial import ConvexHull, convex_hull_plot_2d\n",
    "# hull=ConvexHull(point)\n",
    "\n",
    "# plt.plot(point[:,0], point[:,1], 'o')\n",
    "# for simplex in hull.simplices:\n",
    "#     plt.plot(point[simplex, 0], point[simplex, 1], 'k-')\n",
    "# plt.show()"
   ]
  },
  {
   "cell_type": "markdown",
   "metadata": {},
   "source": [
    "* 저장"
   ]
  },
  {
   "cell_type": "code",
   "execution_count": 39,
   "metadata": {},
   "outputs": [],
   "source": [
    "# data_do=data_do.reset_index().copy()\n",
    "\n",
    "# for i in range(len(data_do['행정동명'])):\n",
    "#     if ('제' in data_do['행정동명'][i]):\n",
    "#         if ('거제' not in data_do['행정동명'][i]):\n",
    "#             data_do['행정동명'][i]=data_do['행정동명'][i].replace('제','')\n",
    "#         elif ('거제제' in data_do['행정동명'][i]):\n",
    "#             data_do['행정동명'][i]=data_do['행정동명'][i].replace('거제제','거제')\n",
    "            \n",
    "# last_bor=[]\n",
    "# for i in dong_list:\n",
    "#     point=np.array(data_do[data_do['행정동명']==i][['경도','위도']].values.tolist())\n",
    "\n",
    "#     hull=ConvexHull(point)\n",
    "#     bor_point=[]\n",
    "\n",
    "#     for simplex in hull.simplices:\n",
    "#         bor_point.append([point[simplex, 0][0], point[simplex, 1][0]])\n",
    "    \n",
    "#     last_bor.append(bor_point)\n",
    "    \n",
    "# all_point=[0]*199\n",
    "# for i in range(199):\n",
    "#     all_point[i]=pd.DataFrame(last_bor[i])\n",
    "#     all_point[i]['읍면동']=dong_list[i]\n",
    "#     all_point[i].columns=['경도','위도','읍면동']\n",
    "#     all_point[i]=all_point[i][['읍면동','경도','위도']]\n",
    "    \n",
    "# df_all_point=all_point[0]\n",
    "# for i in range(1, 199):\n",
    "#     df_all_point=pd.concat([df_all_point, all_point[i]])\n",
    "    \n",
    "# df_all_point=df_all_point.reset_index().copy()\n",
    "\n",
    "# df_all_point.to_csv('./data/save/boundary_angle.csv', encoding='euc-kr')"
   ]
  }
 ],
 "metadata": {
  "kernelspec": {
   "display_name": "Python 3",
   "language": "python",
   "name": "python3"
  },
  "language_info": {
   "codemirror_mode": {
    "name": "ipython",
    "version": 3
   },
   "file_extension": ".py",
   "mimetype": "text/x-python",
   "name": "python",
   "nbconvert_exporter": "python",
   "pygments_lexer": "ipython3",
   "version": "3.8.3"
  }
 },
 "nbformat": 4,
 "nbformat_minor": 4
}
